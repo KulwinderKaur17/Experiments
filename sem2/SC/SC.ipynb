{
 "cells": [
  {
   "cell_type": "code",
   "execution_count": 1,
   "metadata": {},
   "outputs": [],
   "source": [
    "import pandas as pd\n",
    "import matplotlib.pyplot as plt\n",
    "import matplotlib as mpl\n",
    "import numpy as np"
   ]
  },
  {
   "cell_type": "markdown",
   "metadata": {},
   "source": [
    "## V Vs I and V Vs P"
   ]
  },
  {
   "cell_type": "code",
   "execution_count": 2,
   "metadata": {},
   "outputs": [],
   "source": [
    "df = pd.read_csv(\"IvsR.txt\")"
   ]
  },
  {
   "cell_type": "code",
   "execution_count": 3,
   "metadata": {},
   "outputs": [
    {
     "data": {
      "text/html": [
       "<div>\n",
       "<style scoped>\n",
       "    .dataframe tbody tr th:only-of-type {\n",
       "        vertical-align: middle;\n",
       "    }\n",
       "\n",
       "    .dataframe tbody tr th {\n",
       "        vertical-align: top;\n",
       "    }\n",
       "\n",
       "    .dataframe thead th {\n",
       "        text-align: right;\n",
       "    }\n",
       "</style>\n",
       "<table border=\"1\" class=\"dataframe\">\n",
       "  <thead>\n",
       "    <tr style=\"text-align: right;\">\n",
       "      <th></th>\n",
       "      <th>Voltage</th>\n",
       "      <th>Current</th>\n",
       "    </tr>\n",
       "  </thead>\n",
       "  <tbody>\n",
       "    <tr>\n",
       "      <th>0</th>\n",
       "      <td>0.88</td>\n",
       "      <td>0.0890</td>\n",
       "    </tr>\n",
       "    <tr>\n",
       "      <th>1</th>\n",
       "      <td>0.94</td>\n",
       "      <td>0.0880</td>\n",
       "    </tr>\n",
       "    <tr>\n",
       "      <th>2</th>\n",
       "      <td>1.81</td>\n",
       "      <td>0.0870</td>\n",
       "    </tr>\n",
       "    <tr>\n",
       "      <th>3</th>\n",
       "      <td>2.68</td>\n",
       "      <td>0.0860</td>\n",
       "    </tr>\n",
       "    <tr>\n",
       "      <th>4</th>\n",
       "      <td>3.17</td>\n",
       "      <td>0.0770</td>\n",
       "    </tr>\n",
       "    <tr>\n",
       "      <th>5</th>\n",
       "      <td>3.40</td>\n",
       "      <td>0.0660</td>\n",
       "    </tr>\n",
       "    <tr>\n",
       "      <th>6</th>\n",
       "      <td>3.56</td>\n",
       "      <td>0.0580</td>\n",
       "    </tr>\n",
       "    <tr>\n",
       "      <th>7</th>\n",
       "      <td>3.68</td>\n",
       "      <td>0.0510</td>\n",
       "    </tr>\n",
       "    <tr>\n",
       "      <th>8</th>\n",
       "      <td>3.78</td>\n",
       "      <td>0.0460</td>\n",
       "    </tr>\n",
       "    <tr>\n",
       "      <th>9</th>\n",
       "      <td>3.85</td>\n",
       "      <td>0.0420</td>\n",
       "    </tr>\n",
       "    <tr>\n",
       "      <th>10</th>\n",
       "      <td>3.91</td>\n",
       "      <td>0.0380</td>\n",
       "    </tr>\n",
       "    <tr>\n",
       "      <th>11</th>\n",
       "      <td>3.95</td>\n",
       "      <td>0.0350</td>\n",
       "    </tr>\n",
       "    <tr>\n",
       "      <th>12</th>\n",
       "      <td>4.00</td>\n",
       "      <td>0.0330</td>\n",
       "    </tr>\n",
       "    <tr>\n",
       "      <th>13</th>\n",
       "      <td>4.03</td>\n",
       "      <td>0.0310</td>\n",
       "    </tr>\n",
       "    <tr>\n",
       "      <th>14</th>\n",
       "      <td>4.06</td>\n",
       "      <td>0.0280</td>\n",
       "    </tr>\n",
       "    <tr>\n",
       "      <th>15</th>\n",
       "      <td>4.20</td>\n",
       "      <td>0.0210</td>\n",
       "    </tr>\n",
       "    <tr>\n",
       "      <th>16</th>\n",
       "      <td>4.27</td>\n",
       "      <td>0.0170</td>\n",
       "    </tr>\n",
       "    <tr>\n",
       "      <th>17</th>\n",
       "      <td>4.32</td>\n",
       "      <td>0.0140</td>\n",
       "    </tr>\n",
       "    <tr>\n",
       "      <th>18</th>\n",
       "      <td>4.38</td>\n",
       "      <td>0.0100</td>\n",
       "    </tr>\n",
       "    <tr>\n",
       "      <th>19</th>\n",
       "      <td>4.46</td>\n",
       "      <td>0.0070</td>\n",
       "    </tr>\n",
       "    <tr>\n",
       "      <th>20</th>\n",
       "      <td>4.53</td>\n",
       "      <td>0.0040</td>\n",
       "    </tr>\n",
       "    <tr>\n",
       "      <th>21</th>\n",
       "      <td>4.59</td>\n",
       "      <td>0.0010</td>\n",
       "    </tr>\n",
       "    <tr>\n",
       "      <th>22</th>\n",
       "      <td>4.66</td>\n",
       "      <td>0.0006</td>\n",
       "    </tr>\n",
       "  </tbody>\n",
       "</table>\n",
       "</div>"
      ],
      "text/plain": [
       "    Voltage  Current\n",
       "0      0.88   0.0890\n",
       "1      0.94   0.0880\n",
       "2      1.81   0.0870\n",
       "3      2.68   0.0860\n",
       "4      3.17   0.0770\n",
       "5      3.40   0.0660\n",
       "6      3.56   0.0580\n",
       "7      3.68   0.0510\n",
       "8      3.78   0.0460\n",
       "9      3.85   0.0420\n",
       "10     3.91   0.0380\n",
       "11     3.95   0.0350\n",
       "12     4.00   0.0330\n",
       "13     4.03   0.0310\n",
       "14     4.06   0.0280\n",
       "15     4.20   0.0210\n",
       "16     4.27   0.0170\n",
       "17     4.32   0.0140\n",
       "18     4.38   0.0100\n",
       "19     4.46   0.0070\n",
       "20     4.53   0.0040\n",
       "21     4.59   0.0010\n",
       "22     4.66   0.0006"
      ]
     },
     "execution_count": 3,
     "metadata": {},
     "output_type": "execute_result"
    }
   ],
   "source": [
    "df"
   ]
  },
  {
   "cell_type": "code",
   "execution_count": 4,
   "metadata": {},
   "outputs": [],
   "source": [
    "df[\"Power\"] = df[\"Voltage\"]*df[\"Current\"]"
   ]
  },
  {
   "cell_type": "code",
   "execution_count": 5,
   "metadata": {},
   "outputs": [
    {
     "data": {
      "text/plain": [
       "0     0.078320\n",
       "1     0.082720\n",
       "2     0.157470\n",
       "3     0.230480\n",
       "4     0.244090\n",
       "5     0.224400\n",
       "6     0.206480\n",
       "7     0.187680\n",
       "8     0.173880\n",
       "9     0.161700\n",
       "10    0.148580\n",
       "11    0.138250\n",
       "12    0.132000\n",
       "13    0.124930\n",
       "14    0.113680\n",
       "15    0.088200\n",
       "16    0.072590\n",
       "17    0.060480\n",
       "18    0.043800\n",
       "19    0.031220\n",
       "20    0.018120\n",
       "21    0.004590\n",
       "22    0.002796\n",
       "Name: Power, dtype: float64"
      ]
     },
     "execution_count": 5,
     "metadata": {},
     "output_type": "execute_result"
    }
   ],
   "source": [
    "df[\"Power\"]"
   ]
  },
  {
   "cell_type": "code",
   "execution_count": 6,
   "metadata": {},
   "outputs": [],
   "source": [
    "df[\"Resistance\"] = df[\"Voltage\"]/df[\"Current\"]"
   ]
  },
  {
   "cell_type": "code",
   "execution_count": 7,
   "metadata": {},
   "outputs": [],
   "source": [
    "max= df.iloc[df[\"Power\"].argmax()]"
   ]
  },
  {
   "cell_type": "code",
   "execution_count": 8,
   "metadata": {},
   "outputs": [],
   "source": [
    "plt.rcParams.update(plt.rcParamsDefault)"
   ]
  },
  {
   "cell_type": "code",
   "execution_count": 9,
   "metadata": {},
   "outputs": [
    {
     "data": {
      "text/plain": [
       "(3.17, 0.24409)"
      ]
     },
     "execution_count": 9,
     "metadata": {},
     "output_type": "execute_result"
    }
   ],
   "source": [
    "max[\"Voltage\"], max[\"Power\"]"
   ]
  },
  {
   "cell_type": "code",
   "execution_count": 10,
   "metadata": {},
   "outputs": [],
   "source": [
    "fig, ax1 = plt.subplots()\n",
    "fig.set_size_inches(12, 8)\n",
    "ax2 = ax1.twinx()\n",
    "\n",
    "ax1.plot(df[\"Voltage\"], df[\"Current\"],\"r--\", label = \"Current\", marker = \"1\",markersize = 14)\n",
    "ax2.plot(df[\"Voltage\"], df[\"Power\"], label = \"Power\", marker = \"*\",markersize = 14)\n",
    "ax2.scatter(max[\"Voltage\"], max[\"Power\"], color = \"k\", marker = \"o\", s = 200, label = \"Max Power\")\n",
    "ax2.annotate(f\"({round(max['Power'], 3)} W, {round(max['Voltage'], 3)} V, {round(max['Resistance'], 1)} $\\Omega$)\"\n",
    "    , xy = (max[\"Voltage\"], max[\"Power\"]), \n",
    "    xytext = (max[\"Voltage\"]+0.2, max[\"Power\"]), \n",
    "    arrowprops = dict(arrowstyle = \"->\", connectionstyle = \"arc3\"),\n",
    "    fontsize = 13)\n",
    "\n",
    "\n",
    "ax1.set_xlabel(\"Voltage (V)\", fontdict={\"size\": 14, \"fontname\": \"Times New Roman\"})\n",
    "ax1.set_ylabel(\"Current (A)\", fontdict={\"size\": 14, \"fontname\": \"Times New Roman\"})\n",
    "ax2.set_ylabel(\"Power (W)\", fontdict={\"size\": 14, \"fontname\": \"Times New Roman\"})\n",
    "ax1.title.set_text(\"V Vs I and V Vs P\")\n",
    "ax1.title.set_fontsize(14)\n",
    "ax1.title.set_fontname(\"Times New Roman\")\n",
    "ax1.title.set_weight(\"bold\")\n",
    "fig.tight_layout()\n",
    "fig.legend(fontsize = 14)\n",
    "ax1.grid(True)\n",
    "fig.savefig(\"VVsI.pdf\");"
   ]
  },
  {
   "cell_type": "markdown",
   "metadata": {},
   "source": [
    "## Spectral analysis"
   ]
  },
  {
   "cell_type": "code",
   "execution_count": 11,
   "metadata": {},
   "outputs": [],
   "source": [
    "df = pd.read_csv(\"spectral.csv\")"
   ]
  },
  {
   "cell_type": "code",
   "execution_count": 12,
   "metadata": {},
   "outputs": [],
   "source": [
    "df[\"Power\"] = df[\"Voltage\"]*df[\"Current\"]"
   ]
  },
  {
   "cell_type": "code",
   "execution_count": 13,
   "metadata": {},
   "outputs": [],
   "source": [
    "plt.figure(figsize=(12,8))\n",
    "\n",
    "plt.plot(df[\"Wavelenght\"], df[\"Power\"], label = \"Power\", marker = \"o\",markersize = 13)\n",
    "plt.xlabel(\"Wavelength (nm)\", fontdict={\"size\": 14, \"fontname\": \"Times New Roman\"})\n",
    "plt.ylabel(\"Power (W)\", fontdict={\"size\": 14, \"fontname\": \"Times New Roman\"})\n",
    "plt.title(\"Wavelength Vs Power\", fontdict={\"size\": 14, \"fontname\": \"Times New Roman\"})\n",
    "plt.grid(True)\n",
    "plt.savefig(\"WavelengthVsPower.png\");"
   ]
  },
  {
   "cell_type": "markdown",
   "metadata": {},
   "source": [
    "## Areal analysis"
   ]
  },
  {
   "cell_type": "code",
   "execution_count": 14,
   "metadata": {},
   "outputs": [],
   "source": [
    "df2 = pd.read_csv(\"areal.csv\")"
   ]
  },
  {
   "cell_type": "code",
   "execution_count": 15,
   "metadata": {},
   "outputs": [
    {
     "data": {
      "text/html": [
       "<div>\n",
       "<style scoped>\n",
       "    .dataframe tbody tr th:only-of-type {\n",
       "        vertical-align: middle;\n",
       "    }\n",
       "\n",
       "    .dataframe tbody tr th {\n",
       "        vertical-align: top;\n",
       "    }\n",
       "\n",
       "    .dataframe thead th {\n",
       "        text-align: right;\n",
       "    }\n",
       "</style>\n",
       "<table border=\"1\" class=\"dataframe\">\n",
       "  <thead>\n",
       "    <tr style=\"text-align: right;\">\n",
       "      <th></th>\n",
       "      <th>Dimension</th>\n",
       "      <th>Voltage</th>\n",
       "      <th>Current</th>\n",
       "    </tr>\n",
       "  </thead>\n",
       "  <tbody>\n",
       "    <tr>\n",
       "      <th>0</th>\n",
       "      <td>2.2 2.0</td>\n",
       "      <td>0.22</td>\n",
       "      <td>69</td>\n",
       "    </tr>\n",
       "    <tr>\n",
       "      <th>1</th>\n",
       "      <td>4.2 3.2</td>\n",
       "      <td>0.47</td>\n",
       "      <td>146</td>\n",
       "    </tr>\n",
       "    <tr>\n",
       "      <th>2</th>\n",
       "      <td>7.0 4.0</td>\n",
       "      <td>0.62</td>\n",
       "      <td>190</td>\n",
       "    </tr>\n",
       "    <tr>\n",
       "      <th>3</th>\n",
       "      <td>7.0 4.4</td>\n",
       "      <td>1.92</td>\n",
       "      <td>371</td>\n",
       "    </tr>\n",
       "    <tr>\n",
       "      <th>4</th>\n",
       "      <td>9.2 5.2</td>\n",
       "      <td>3.92</td>\n",
       "      <td>600</td>\n",
       "    </tr>\n",
       "  </tbody>\n",
       "</table>\n",
       "</div>"
      ],
      "text/plain": [
       "  Dimension  Voltage  Current\n",
       "0   2.2 2.0     0.22       69\n",
       "1   4.2 3.2     0.47      146\n",
       "2   7.0 4.0     0.62      190\n",
       "3   7.0 4.4     1.92      371\n",
       "4   9.2 5.2     3.92      600"
      ]
     },
     "execution_count": 15,
     "metadata": {},
     "output_type": "execute_result"
    }
   ],
   "source": [
    "df2"
   ]
  },
  {
   "cell_type": "code",
   "execution_count": 16,
   "metadata": {},
   "outputs": [],
   "source": [
    "def cal_area(row):\n",
    "    w = float(row.split(\" \")[0])\n",
    "    l = float(row.split(\" \")[1])\n",
    "    return w*l"
   ]
  },
  {
   "cell_type": "code",
   "execution_count": 17,
   "metadata": {},
   "outputs": [],
   "source": [
    "df2[\"Area\"] = df2[\"Dimension\"].apply(cal_area)"
   ]
  },
  {
   "cell_type": "code",
   "execution_count": 18,
   "metadata": {},
   "outputs": [
    {
     "data": {
      "text/html": [
       "<div>\n",
       "<style scoped>\n",
       "    .dataframe tbody tr th:only-of-type {\n",
       "        vertical-align: middle;\n",
       "    }\n",
       "\n",
       "    .dataframe tbody tr th {\n",
       "        vertical-align: top;\n",
       "    }\n",
       "\n",
       "    .dataframe thead th {\n",
       "        text-align: right;\n",
       "    }\n",
       "</style>\n",
       "<table border=\"1\" class=\"dataframe\">\n",
       "  <thead>\n",
       "    <tr style=\"text-align: right;\">\n",
       "      <th></th>\n",
       "      <th>Dimension</th>\n",
       "      <th>Voltage</th>\n",
       "      <th>Current</th>\n",
       "      <th>Area</th>\n",
       "      <th>Power</th>\n",
       "    </tr>\n",
       "  </thead>\n",
       "  <tbody>\n",
       "    <tr>\n",
       "      <th>0</th>\n",
       "      <td>2.2 2.0</td>\n",
       "      <td>0.22</td>\n",
       "      <td>69</td>\n",
       "      <td>4.40</td>\n",
       "      <td>0.001518</td>\n",
       "    </tr>\n",
       "    <tr>\n",
       "      <th>1</th>\n",
       "      <td>4.2 3.2</td>\n",
       "      <td>0.47</td>\n",
       "      <td>146</td>\n",
       "      <td>13.44</td>\n",
       "      <td>0.006862</td>\n",
       "    </tr>\n",
       "    <tr>\n",
       "      <th>2</th>\n",
       "      <td>7.0 4.0</td>\n",
       "      <td>0.62</td>\n",
       "      <td>190</td>\n",
       "      <td>28.00</td>\n",
       "      <td>0.011780</td>\n",
       "    </tr>\n",
       "    <tr>\n",
       "      <th>3</th>\n",
       "      <td>7.0 4.4</td>\n",
       "      <td>1.92</td>\n",
       "      <td>371</td>\n",
       "      <td>30.80</td>\n",
       "      <td>0.071232</td>\n",
       "    </tr>\n",
       "    <tr>\n",
       "      <th>4</th>\n",
       "      <td>9.2 5.2</td>\n",
       "      <td>3.92</td>\n",
       "      <td>600</td>\n",
       "      <td>47.84</td>\n",
       "      <td>0.235200</td>\n",
       "    </tr>\n",
       "  </tbody>\n",
       "</table>\n",
       "</div>"
      ],
      "text/plain": [
       "  Dimension  Voltage  Current   Area     Power\n",
       "0   2.2 2.0     0.22       69   4.40  0.001518\n",
       "1   4.2 3.2     0.47      146  13.44  0.006862\n",
       "2   7.0 4.0     0.62      190  28.00  0.011780\n",
       "3   7.0 4.4     1.92      371  30.80  0.071232\n",
       "4   9.2 5.2     3.92      600  47.84  0.235200"
      ]
     },
     "execution_count": 18,
     "metadata": {},
     "output_type": "execute_result"
    }
   ],
   "source": [
    "df2[\"Power\"] = df2[\"Voltage\"]*df2[\"Current\"]/10000\n",
    "df2"
   ]
  },
  {
   "cell_type": "code",
   "execution_count": 19,
   "metadata": {},
   "outputs": [],
   "source": [
    "plt.figure(figsize=(12,8))\n",
    "plt.subplot(2,1,1)\n",
    "plt.plot(df[\"Wavelenght\"], df[\"Power\"], label = \"Power\", marker = \"o\",markersize = 13)\n",
    "plt.xlabel(\"Wavelength (nm)\", fontdict={\"size\": 14, \"fontname\": \"Times New Roman\"})\n",
    "plt.ylabel(\"Power (W)\", fontdict={\"size\": 14, \"fontname\": \"Times New Roman\"})\n",
    "plt.title(\"Wavelength Vs Power\", fontdict={\"size\": 14, \"fontname\": \"Times New Roman\"})\n",
    "plt.grid(True)\n",
    "# plt.savefig(\"WavelengthVsPower.png\");\n",
    "plt.subplot(2,1,2)\n",
    "plt.plot(df2[\"Area\"], df2[\"Power\"], label = \"Power\", marker = \"o\",markersize = 13)\n",
    "plt.xlabel(\"Area in $cm^2$\", fontdict={\"size\": 14, \"fontname\": \"Times New Roman\"})\n",
    "plt.ylabel(\"Power (W)\", fontdict={\"size\": 14, \"fontname\": \"Times New Roman\"})\n",
    "plt.title(\"Area Vs Power\", fontdict={\"size\": 14, \"fontname\": \"Times New Roman\"})\n",
    "plt.grid(True)\n",
    "plt.tight_layout()\n",
    "plt.savefig(\"other.pdf\");"
   ]
  }
 ],
 "metadata": {
  "interpreter": {
   "hash": "21040c1b576dca9f4f330277849b9f4819256d524dee23c2b89e431027dafe11"
  },
  "kernelspec": {
   "display_name": "Python 3.8.5",
   "language": "python",
   "name": "python3"
  },
  "language_info": {
   "codemirror_mode": {
    "name": "ipython",
    "version": 3
   },
   "file_extension": ".py",
   "mimetype": "text/x-python",
   "name": "python",
   "nbconvert_exporter": "python",
   "pygments_lexer": "ipython3",
   "version": "3.8.5"
  },
  "orig_nbformat": 4
 },
 "nbformat": 4,
 "nbformat_minor": 2
}
