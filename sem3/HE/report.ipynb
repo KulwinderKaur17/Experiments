{
 "cells": [
  {
   "cell_type": "markdown",
   "metadata": {},
   "source": [
    "# B = 1000G"
   ]
  },
  {
   "cell_type": "markdown",
   "metadata": {},
   "source": [
    "![](B1.png)"
   ]
  },
  {
   "cell_type": "markdown",
   "metadata": {},
   "source": [
    "# B = 3000G"
   ]
  },
  {
   "cell_type": "markdown",
   "metadata": {},
   "source": [
    "![](B3.png)"
   ]
  }
 ],
 "metadata": {
  "language_info": {
   "name": "python"
  },
  "orig_nbformat": 4
 },
 "nbformat": 4,
 "nbformat_minor": 2
}
