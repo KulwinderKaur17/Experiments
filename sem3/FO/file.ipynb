{
 "cells": [
  {
   "cell_type": "code",
   "execution_count": 1,
   "metadata": {},
   "outputs": [],
   "source": [
    "import numpy as np\n",
    "import pandas as pd\n",
    "import matplotlib.pyplot as plt\n",
    "import sys\n",
    "sys.path.append(\"../tools\")\n",
    "from maths.algebra import  CurveFitting\n",
    "from scipy.optimize import curve_fit\n",
    "\n",
    "plt.rcParams['figure.figsize'] = [10, 7]\n",
    "plt.rcParams[\"font.size\"] = 16"
   ]
  },
  {
   "cell_type": "markdown",
   "metadata": {},
   "source": [
    "## Polynomial"
   ]
  },
  {
   "cell_type": "code",
   "execution_count": 2,
   "metadata": {},
   "outputs": [],
   "source": [
    "cf = CurveFitting()"
   ]
  },
  {
   "cell_type": "code",
   "execution_count": 9,
   "metadata": {},
   "outputs": [
    {
     "data": {
      "text/html": [
       "<div>\n",
       "<style scoped>\n",
       "    .dataframe tbody tr th:only-of-type {\n",
       "        vertical-align: middle;\n",
       "    }\n",
       "\n",
       "    .dataframe tbody tr th {\n",
       "        vertical-align: top;\n",
       "    }\n",
       "\n",
       "    .dataframe thead th {\n",
       "        text-align: right;\n",
       "    }\n",
       "</style>\n",
       "<table border=\"1\" class=\"dataframe\">\n",
       "  <thead>\n",
       "    <tr style=\"text-align: right;\">\n",
       "      <th></th>\n",
       "      <th>theta</th>\n",
       "      <th>I</th>\n",
       "      <th>theta-mean</th>\n",
       "      <th>I/I_max</th>\n",
       "    </tr>\n",
       "  </thead>\n",
       "  <tbody>\n",
       "    <tr>\n",
       "      <th>0</th>\n",
       "      <td>74.0</td>\n",
       "      <td>0.4</td>\n",
       "      <td>-7.0</td>\n",
       "      <td>0.014706</td>\n",
       "    </tr>\n",
       "    <tr>\n",
       "      <th>1</th>\n",
       "      <td>74.8</td>\n",
       "      <td>0.7</td>\n",
       "      <td>-6.2</td>\n",
       "      <td>0.025735</td>\n",
       "    </tr>\n",
       "    <tr>\n",
       "      <th>2</th>\n",
       "      <td>75.2</td>\n",
       "      <td>0.9</td>\n",
       "      <td>-5.8</td>\n",
       "      <td>0.033088</td>\n",
       "    </tr>\n",
       "    <tr>\n",
       "      <th>3</th>\n",
       "      <td>75.6</td>\n",
       "      <td>1.2</td>\n",
       "      <td>-5.4</td>\n",
       "      <td>0.044118</td>\n",
       "    </tr>\n",
       "    <tr>\n",
       "      <th>4</th>\n",
       "      <td>76.0</td>\n",
       "      <td>1.6</td>\n",
       "      <td>-5.0</td>\n",
       "      <td>0.058824</td>\n",
       "    </tr>\n",
       "    <tr>\n",
       "      <th>5</th>\n",
       "      <td>76.4</td>\n",
       "      <td>2.2</td>\n",
       "      <td>-4.6</td>\n",
       "      <td>0.080882</td>\n",
       "    </tr>\n",
       "    <tr>\n",
       "      <th>6</th>\n",
       "      <td>76.6</td>\n",
       "      <td>2.8</td>\n",
       "      <td>-4.4</td>\n",
       "      <td>0.102941</td>\n",
       "    </tr>\n",
       "    <tr>\n",
       "      <th>7</th>\n",
       "      <td>76.8</td>\n",
       "      <td>3.1</td>\n",
       "      <td>-4.2</td>\n",
       "      <td>0.113971</td>\n",
       "    </tr>\n",
       "    <tr>\n",
       "      <th>8</th>\n",
       "      <td>77.0</td>\n",
       "      <td>3.4</td>\n",
       "      <td>-4.0</td>\n",
       "      <td>0.125000</td>\n",
       "    </tr>\n",
       "    <tr>\n",
       "      <th>9</th>\n",
       "      <td>77.2</td>\n",
       "      <td>4.0</td>\n",
       "      <td>-3.8</td>\n",
       "      <td>0.147059</td>\n",
       "    </tr>\n",
       "    <tr>\n",
       "      <th>10</th>\n",
       "      <td>77.4</td>\n",
       "      <td>5.0</td>\n",
       "      <td>-3.6</td>\n",
       "      <td>0.183824</td>\n",
       "    </tr>\n",
       "    <tr>\n",
       "      <th>11</th>\n",
       "      <td>77.6</td>\n",
       "      <td>5.6</td>\n",
       "      <td>-3.4</td>\n",
       "      <td>0.205882</td>\n",
       "    </tr>\n",
       "    <tr>\n",
       "      <th>12</th>\n",
       "      <td>77.8</td>\n",
       "      <td>6.4</td>\n",
       "      <td>-3.2</td>\n",
       "      <td>0.235294</td>\n",
       "    </tr>\n",
       "    <tr>\n",
       "      <th>13</th>\n",
       "      <td>78.0</td>\n",
       "      <td>7.5</td>\n",
       "      <td>-3.0</td>\n",
       "      <td>0.275735</td>\n",
       "    </tr>\n",
       "    <tr>\n",
       "      <th>14</th>\n",
       "      <td>78.2</td>\n",
       "      <td>9.1</td>\n",
       "      <td>-2.8</td>\n",
       "      <td>0.334559</td>\n",
       "    </tr>\n",
       "    <tr>\n",
       "      <th>15</th>\n",
       "      <td>78.8</td>\n",
       "      <td>12.3</td>\n",
       "      <td>-2.2</td>\n",
       "      <td>0.452206</td>\n",
       "    </tr>\n",
       "    <tr>\n",
       "      <th>16</th>\n",
       "      <td>79.0</td>\n",
       "      <td>14.4</td>\n",
       "      <td>-2.0</td>\n",
       "      <td>0.529412</td>\n",
       "    </tr>\n",
       "    <tr>\n",
       "      <th>17</th>\n",
       "      <td>79.2</td>\n",
       "      <td>17.4</td>\n",
       "      <td>-1.8</td>\n",
       "      <td>0.639706</td>\n",
       "    </tr>\n",
       "    <tr>\n",
       "      <th>18</th>\n",
       "      <td>79.8</td>\n",
       "      <td>20.6</td>\n",
       "      <td>-1.2</td>\n",
       "      <td>0.757353</td>\n",
       "    </tr>\n",
       "    <tr>\n",
       "      <th>19</th>\n",
       "      <td>80.0</td>\n",
       "      <td>22.4</td>\n",
       "      <td>-1.0</td>\n",
       "      <td>0.823529</td>\n",
       "    </tr>\n",
       "    <tr>\n",
       "      <th>20</th>\n",
       "      <td>80.2</td>\n",
       "      <td>23.2</td>\n",
       "      <td>-0.8</td>\n",
       "      <td>0.852941</td>\n",
       "    </tr>\n",
       "    <tr>\n",
       "      <th>21</th>\n",
       "      <td>80.4</td>\n",
       "      <td>25.1</td>\n",
       "      <td>-0.6</td>\n",
       "      <td>0.922794</td>\n",
       "    </tr>\n",
       "    <tr>\n",
       "      <th>22</th>\n",
       "      <td>80.6</td>\n",
       "      <td>26.1</td>\n",
       "      <td>-0.4</td>\n",
       "      <td>0.959559</td>\n",
       "    </tr>\n",
       "    <tr>\n",
       "      <th>23</th>\n",
       "      <td>81.5</td>\n",
       "      <td>26.6</td>\n",
       "      <td>0.5</td>\n",
       "      <td>0.977941</td>\n",
       "    </tr>\n",
       "    <tr>\n",
       "      <th>24</th>\n",
       "      <td>82.0</td>\n",
       "      <td>23.5</td>\n",
       "      <td>1.0</td>\n",
       "      <td>0.863971</td>\n",
       "    </tr>\n",
       "    <tr>\n",
       "      <th>25</th>\n",
       "      <td>82.6</td>\n",
       "      <td>21.4</td>\n",
       "      <td>1.6</td>\n",
       "      <td>0.786765</td>\n",
       "    </tr>\n",
       "    <tr>\n",
       "      <th>26</th>\n",
       "      <td>82.8</td>\n",
       "      <td>19.7</td>\n",
       "      <td>1.8</td>\n",
       "      <td>0.724265</td>\n",
       "    </tr>\n",
       "    <tr>\n",
       "      <th>27</th>\n",
       "      <td>83.0</td>\n",
       "      <td>17.6</td>\n",
       "      <td>2.0</td>\n",
       "      <td>0.647059</td>\n",
       "    </tr>\n",
       "    <tr>\n",
       "      <th>28</th>\n",
       "      <td>83.2</td>\n",
       "      <td>15.6</td>\n",
       "      <td>2.2</td>\n",
       "      <td>0.573529</td>\n",
       "    </tr>\n",
       "    <tr>\n",
       "      <th>29</th>\n",
       "      <td>83.4</td>\n",
       "      <td>13.8</td>\n",
       "      <td>2.4</td>\n",
       "      <td>0.507353</td>\n",
       "    </tr>\n",
       "    <tr>\n",
       "      <th>30</th>\n",
       "      <td>83.8</td>\n",
       "      <td>11.6</td>\n",
       "      <td>2.8</td>\n",
       "      <td>0.426471</td>\n",
       "    </tr>\n",
       "    <tr>\n",
       "      <th>31</th>\n",
       "      <td>84.0</td>\n",
       "      <td>9.9</td>\n",
       "      <td>3.0</td>\n",
       "      <td>0.363971</td>\n",
       "    </tr>\n",
       "    <tr>\n",
       "      <th>32</th>\n",
       "      <td>84.4</td>\n",
       "      <td>8.2</td>\n",
       "      <td>3.4</td>\n",
       "      <td>0.301471</td>\n",
       "    </tr>\n",
       "    <tr>\n",
       "      <th>33</th>\n",
       "      <td>84.6</td>\n",
       "      <td>6.9</td>\n",
       "      <td>3.6</td>\n",
       "      <td>0.253676</td>\n",
       "    </tr>\n",
       "    <tr>\n",
       "      <th>34</th>\n",
       "      <td>85.0</td>\n",
       "      <td>5.3</td>\n",
       "      <td>4.0</td>\n",
       "      <td>0.194853</td>\n",
       "    </tr>\n",
       "    <tr>\n",
       "      <th>35</th>\n",
       "      <td>85.8</td>\n",
       "      <td>3.0</td>\n",
       "      <td>4.8</td>\n",
       "      <td>0.110294</td>\n",
       "    </tr>\n",
       "    <tr>\n",
       "      <th>36</th>\n",
       "      <td>86.0</td>\n",
       "      <td>2.5</td>\n",
       "      <td>5.0</td>\n",
       "      <td>0.091912</td>\n",
       "    </tr>\n",
       "    <tr>\n",
       "      <th>37</th>\n",
       "      <td>86.6</td>\n",
       "      <td>1.7</td>\n",
       "      <td>5.6</td>\n",
       "      <td>0.062500</td>\n",
       "    </tr>\n",
       "    <tr>\n",
       "      <th>38</th>\n",
       "      <td>87.4</td>\n",
       "      <td>1.0</td>\n",
       "      <td>6.4</td>\n",
       "      <td>0.036765</td>\n",
       "    </tr>\n",
       "    <tr>\n",
       "      <th>39</th>\n",
       "      <td>88.2</td>\n",
       "      <td>0.7</td>\n",
       "      <td>7.2</td>\n",
       "      <td>0.025735</td>\n",
       "    </tr>\n",
       "    <tr>\n",
       "      <th>40</th>\n",
       "      <td>89.0</td>\n",
       "      <td>0.5</td>\n",
       "      <td>8.0</td>\n",
       "      <td>0.018382</td>\n",
       "    </tr>\n",
       "    <tr>\n",
       "      <th>41</th>\n",
       "      <td>90.0</td>\n",
       "      <td>0.3</td>\n",
       "      <td>9.0</td>\n",
       "      <td>0.011029</td>\n",
       "    </tr>\n",
       "  </tbody>\n",
       "</table>\n",
       "</div>"
      ],
      "text/plain": [
       "    theta     I  theta-mean   I/I_max\n",
       "0    74.0   0.4        -7.0  0.014706\n",
       "1    74.8   0.7        -6.2  0.025735\n",
       "2    75.2   0.9        -5.8  0.033088\n",
       "3    75.6   1.2        -5.4  0.044118\n",
       "4    76.0   1.6        -5.0  0.058824\n",
       "5    76.4   2.2        -4.6  0.080882\n",
       "6    76.6   2.8        -4.4  0.102941\n",
       "7    76.8   3.1        -4.2  0.113971\n",
       "8    77.0   3.4        -4.0  0.125000\n",
       "9    77.2   4.0        -3.8  0.147059\n",
       "10   77.4   5.0        -3.6  0.183824\n",
       "11   77.6   5.6        -3.4  0.205882\n",
       "12   77.8   6.4        -3.2  0.235294\n",
       "13   78.0   7.5        -3.0  0.275735\n",
       "14   78.2   9.1        -2.8  0.334559\n",
       "15   78.8  12.3        -2.2  0.452206\n",
       "16   79.0  14.4        -2.0  0.529412\n",
       "17   79.2  17.4        -1.8  0.639706\n",
       "18   79.8  20.6        -1.2  0.757353\n",
       "19   80.0  22.4        -1.0  0.823529\n",
       "20   80.2  23.2        -0.8  0.852941\n",
       "21   80.4  25.1        -0.6  0.922794\n",
       "22   80.6  26.1        -0.4  0.959559\n",
       "23   81.5  26.6         0.5  0.977941\n",
       "24   82.0  23.5         1.0  0.863971\n",
       "25   82.6  21.4         1.6  0.786765\n",
       "26   82.8  19.7         1.8  0.724265\n",
       "27   83.0  17.6         2.0  0.647059\n",
       "28   83.2  15.6         2.2  0.573529\n",
       "29   83.4  13.8         2.4  0.507353\n",
       "30   83.8  11.6         2.8  0.426471\n",
       "31   84.0   9.9         3.0  0.363971\n",
       "32   84.4   8.2         3.4  0.301471\n",
       "33   84.6   6.9         3.6  0.253676\n",
       "34   85.0   5.3         4.0  0.194853\n",
       "35   85.8   3.0         4.8  0.110294\n",
       "36   86.0   2.5         5.0  0.091912\n",
       "37   86.6   1.7         5.6  0.062500\n",
       "38   87.4   1.0         6.4  0.036765\n",
       "39   88.2   0.7         7.2  0.025735\n",
       "40   89.0   0.5         8.0  0.018382\n",
       "41   90.0   0.3         9.0  0.011029"
      ]
     },
     "execution_count": 9,
     "metadata": {},
     "output_type": "execute_result"
    }
   ],
   "source": [
    "data = pd.read_csv(\"data.csv\")\n",
    "data"
   ]
  },
  {
   "cell_type": "code",
   "execution_count": 5,
   "metadata": {},
   "outputs": [],
   "source": [
    "X = data[\"theta2\"]\n",
    "Y = data[\"I_n\"]"
   ]
  },
  {
   "cell_type": "code",
   "execution_count": 6,
   "metadata": {},
   "outputs": [
    {
     "data": {
      "text/plain": [
       "(0.9832651738331244, -0.12344453689792088)"
      ]
     },
     "execution_count": 6,
     "metadata": {},
     "output_type": "execute_result"
    }
   ],
   "source": [
    "params = cf.fit(X, Y, 12)\n",
    "coeffs = params[0]\n",
    "A = coeffs[0]\n",
    "b1 = -coeffs[2]\n",
    "b2 = (coeffs[4]*2)**0.5\n",
    "b3 = np.power((-coeffs[6]*6), 1/3)\n",
    "b = -np.mean(np.array([b1, b2, b3]))\n",
    "A, b"
   ]
  },
  {
   "cell_type": "code",
   "execution_count": 7,
   "metadata": {},
   "outputs": [],
   "source": [
    "X_new = np.linspace(X.min(), 8, 200)\n",
    "e = 2.718281828459045"
   ]
  },
  {
   "cell_type": "code",
   "execution_count": 8,
   "metadata": {},
   "outputs": [
    {
     "data": {
      "image/png": "[encoded data removed]",
      "text/plain": [
       "<Figure size 1152x864 with 1 Axes>"
      ]
     },
     "metadata": {
      "needs_background": "light"
     },
     "output_type": "display_data"
    }
   ],
   "source": [
    "plt.figure(figsize=(16, 12))\n",
    "y_pred = cf.predict(X_new)\n",
    "plt.plot(X[:-1], Y[:-1], \"*k\", label=\"Original data\", markersize=15)\n",
    "curve_eq = fr\"$y = {A:.2f}exp({b:.2f}x^2)$\"\n",
    "plt.plot(X_new, y_pred, \"r-\", label=curve_eq)\n",
    "p2 = A/e**2\n",
    "plt.axhline(p2, color=\"k\", linestyle=\"--\", label=r\"$y = \\frac{A}{e^2}$\")\n",
    "plt.annotate(fr\"$I={p2:.2f}\\mu A$\", xy=(0.5, p2), xytext=(0.5, p2+0.1), arrowprops=dict(facecolor='black', shrink=0.05))\n",
    "idx = np.isclose(y_pred, p2, atol=0.003)\n",
    "inter_x = X_new[idx]\n",
    "inter_y = y_pred[idx]\n",
    "plt.plot(inter_x, inter_y, \"bo\", label=\"Intersection Points\", markersize=10)\n",
    "plt.annotate(fr\"$\\theta = {inter_x[0]:.2f}^\\circ$\", (inter_x[0]+0.7, inter_y[0]+0.03))\n",
    "plt.annotate(fr\"$\\theta = {inter_x[1]:.2f}^\\circ$\", (inter_x[1]+0.5, inter_y[1]+0.03))\n",
    "plt.xlabel(r\"$\\theta$ in degrees\")\n",
    "plt.ylabel(\"Current $\\mu A$\")\n",
    "plt.legend()\n",
    "plt.grid()\n",
    "plt.title(\"Far Field Intensity Pattern of Single Mode Fiber\")\n",
    "# plt.show()\n",
    "plt.savefig(\"plot.pdf\")"
   ]
  },
  {
   "cell_type": "code",
   "execution_count": 9,
   "metadata": {},
   "outputs": [
    {
     "data": {
      "text/plain": [
       "4.258793969849246"
      ]
     },
     "execution_count": 9,
     "metadata": {},
     "output_type": "execute_result"
    }
   ],
   "source": [
    "theta_avg = (np.abs(inter_x[0])+np.abs(inter_x[1]))/2\n",
    "theta_avg"
   ]
  },
  {
   "cell_type": "code",
   "execution_count": 10,
   "metadata": {},
   "outputs": [
    {
     "data": {
      "text/plain": [
       "(2.704903334442473, 5.409806668884946)"
      ]
     },
     "execution_count": 10,
     "metadata": {},
     "output_type": "execute_result"
    }
   ],
   "source": [
    "lambd = 632.8e-3\n",
    "omega_0 = lambd/(np.pi*np.tan(np.deg2rad(theta_avg)))\n",
    "omega_0, 2*omega_0"
   ]
  },
  {
   "cell_type": "code",
   "execution_count": 16,
   "metadata": {},
   "outputs": [],
   "source": [
    "data.drop(\"S\", axis=1, inplace=True)"
   ]
  },
  {
   "cell_type": "code",
   "execution_count": 19,
   "metadata": {},
   "outputs": [],
   "source": [
    "data[3:-3].to_html(\"data_final.html\", index=False, justify=\"center\", classes=\"table table-striped table-hover table-bordered\")"
   ]
  },
  {
   "cell_type": "markdown",
   "metadata": {},
   "source": [
    "## Using `scipy`"
   ]
  },
  {
   "cell_type": "code",
   "execution_count": null,
   "metadata": {},
   "outputs": [],
   "source": [
    "x = data[\"theta-mean\"]\n",
    "y = data[\"I/I_max\"]"
   ]
  },
  {
   "cell_type": "code",
   "execution_count": null,
   "metadata": {},
   "outputs": [],
   "source": [
    "def func(x, a, b):\n",
    "    return a*np.exp(-b*x**2)"
   ]
  },
  {
   "cell_type": "code",
   "execution_count": null,
   "metadata": {},
   "outputs": [
    {
     "data": {
      "text/plain": [
       "array([0.96030397, 0.11737488])"
      ]
     },
     "metadata": {},
     "output_type": "display_data"
    }
   ],
   "source": [
    "popt, pcov = curve_fit(func, x, y)\n",
    "popt"
   ]
  },
  {
   "cell_type": "code",
   "execution_count": null,
   "metadata": {},
   "outputs": [],
   "source": [
    "A = popt[0]\n",
    "b = popt[1]\n",
    "e = 2.718281828459045"
   ]
  },
  {
   "cell_type": "code",
   "execution_count": null,
   "metadata": {},
   "outputs": [
    {
     "data": {
      "text/plain": [
       "<matplotlib.legend.Legend at 0x24d2ab9fe20>"
      ]
     },
     "metadata": {},
     "output_type": "display_data"
    },
    {
     "data": {
      "image/png": "[encoded data removed]",
      "text/plain": [
       "<Figure size 720x504 with 1 Axes>"
      ]
     },
     "metadata": {},
     "output_type": "display_data"
    }
   ],
   "source": [
    "x2 = np.linspace(x.min(), x.max(), 1000)\n",
    "y_pred = func(x2, *popt)\n",
    "plt.plot(x, y, \"*k\", label=\"Original data\", markersize=15)\n",
    "plt.plot(x2, y_pred, \"r-\", label=f\"$I = {popt[0]:.2f}exp(-{popt[1]:.2f}\\\\theta^2)$\")\n",
    "p2 = A/e**2\n",
    "plt.axhline(p2, color=\"k\", linestyle=\"--\", label=r\"$y = \\frac{A}{e^2}$\")\n",
    "plt.annotate(fr\"$I={p2:.2f}\\mu A$\", xy=(0.5, p2), xytext=(0.5, p2+0.1), arrowprops=dict(facecolor='black', shrink=0.05))\n",
    "idx = np.isclose(y_pred, p2, atol=0.001)\n",
    "inter_x = x2[idx]\n",
    "inter_y = y_pred[idx]\n",
    "plt.plot(inter_x, inter_y, \"bo\", label=\"Intersection Points\", markersize=10)\n",
    "plt.annotate(fr\"$\\theta = {inter_x[0]:.2f}^\\circ$\", (inter_x[0]+0.7, inter_y[0]+0.03))\n",
    "plt.annotate(fr\"$\\theta = {inter_x[1]:.2f}^\\circ$\", (inter_x[1]+0.5, inter_y[1]+0.03))\n",
    "plt.xlabel(r\"$\\theta$ in degrees\")\n",
    "plt.ylabel(\"Normalized Intensity\")\n",
    "plt.legend()"
   ]
  },
  {
   "cell_type": "code",
   "execution_count": null,
   "metadata": {},
   "outputs": [],
   "source": []
  },
  {
   "cell_type": "markdown",
   "metadata": {},
   "source": [
    "## NA"
   ]
  },
  {
   "cell_type": "markdown",
   "metadata": {},
   "source": [
    "$$\n",
    "NA = \\frac{r}{\\sqrt{r^2+d^2}}\n",
    "$$"
   ]
  },
  {
   "cell_type": "code",
   "execution_count": 20,
   "metadata": {},
   "outputs": [],
   "source": [
    "NA = pd.read_csv(\"NA.csv\")"
   ]
  },
  {
   "cell_type": "code",
   "execution_count": 21,
   "metadata": {},
   "outputs": [
    {
     "data": {
      "text/plain": [
       "0    0.231875\n",
       "1    0.232990\n",
       "2    0.231621\n",
       "3    0.240514\n",
       "4    0.242536\n",
       "5    0.244277\n",
       "6    0.245792\n",
       "7    0.244067\n",
       "Name: NA, dtype: float64"
      ]
     },
     "execution_count": 21,
     "metadata": {},
     "output_type": "execute_result"
    }
   ],
   "source": [
    "NA[\"r\"] = NA[\"D\"]/2\n",
    "NA[\"NA\"] = NA[\"r\"]/(np.sqrt(NA[\"r\"]**2 + NA[\"z\"]**2))\n",
    "NA[\"NA\"]"
   ]
  },
  {
   "cell_type": "code",
   "execution_count": 22,
   "metadata": {},
   "outputs": [
    {
     "data": {
      "text/plain": [
       "0.2392089342945001"
      ]
     },
     "execution_count": 22,
     "metadata": {},
     "output_type": "execute_result"
    }
   ],
   "source": [
    "NA_avg = NA[\"NA\"].mean()\n",
    "NA_avg"
   ]
  },
  {
   "cell_type": "code",
   "execution_count": 24,
   "metadata": {},
   "outputs": [],
   "source": [
    "NA.to_html(\"NA_final.html\", index=False, justify=\"center\", classes=\"table table-striped table-hover table-bordered\")"
   ]
  }
 ],
 "metadata": {
  "kernelspec": {
   "display_name": "Python 3.9.12 ('data-science')",
   "language": "python",
   "name": "python3"
  },
  "language_info": {
   "codemirror_mode": {
    "name": "ipython",
    "version": 3
   },
   "file_extension": ".py",
   "mimetype": "text/x-python",
   "name": "python",
   "nbconvert_exporter": "python",
   "pygments_lexer": "ipython3",
   "version": "3.9.12"
  },
  "orig_nbformat": 4,
  "vscode": {
   "interpreter": {
    "hash": "d74fc908eae79b02b8cce18e1a025ddee3cde1cb9b0b41023c6cc1f310bb259d"
   }
  }
 },
 "nbformat": 4,
 "nbformat_minor": 2
}
